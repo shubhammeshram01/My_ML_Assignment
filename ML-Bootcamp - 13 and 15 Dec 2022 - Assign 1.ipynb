{
 "cells": [
  {
   "cell_type": "markdown",
   "id": "f3a67b50",
   "metadata": {},
   "source": [
    "# Assignment 1"
   ]
  },
  {
   "cell_type": "markdown",
   "id": "6b8b1bed",
   "metadata": {},
   "source": [
    "## 1) Accept two numbers from the user and display their sum"
   ]
  },
  {
   "cell_type": "code",
   "execution_count": 3,
   "id": "d9aa0b7f",
   "metadata": {},
   "outputs": [
    {
     "name": "stdout",
     "output_type": "stream",
     "text": [
      "Enter 1st number = 10\n",
      "Enter 2nd number = 20\n",
      "The sum of a+b is =  30\n"
     ]
    }
   ],
   "source": [
    "a=int(input(\"Enter 1st number = \"))\n",
    "b=int(input(\"Enter 2nd number = \"))\n",
    "c=a+b\n",
    "print(\"The sum of a+b is = \",c)"
   ]
  },
  {
   "cell_type": "markdown",
   "id": "9df8a946",
   "metadata": {},
   "source": [
    "## 2) Accept radius of a Circle from the user and calculate area and circumference "
   ]
  },
  {
   "cell_type": "code",
   "execution_count": 4,
   "id": "966d1a45",
   "metadata": {},
   "outputs": [
    {
     "name": "stdout",
     "output_type": "stream",
     "text": [
      "Enter radius of circle : 7\n",
      "Area of circle is :  153.86\n",
      "Circumference of circle is :  43.96\n"
     ]
    }
   ],
   "source": [
    "r=int(input(\"Enter radius of circle : \"))\n",
    "area=3.14*r*r\n",
    "circumference=2*3.14*r\n",
    "print(\"Area of circle is : \",area)\n",
    "print(\"Circumference of circle is : \",circumference)   ## 3.14 is the value of Pi..."
   ]
  },
  {
   "cell_type": "markdown",
   "id": "d263e21a",
   "metadata": {},
   "source": [
    "## 3) Accept roll number , grade and percentage as input from the user and display it back"
   ]
  },
  {
   "cell_type": "code",
   "execution_count": 5,
   "id": "ea506740",
   "metadata": {},
   "outputs": [
    {
     "name": "stdout",
     "output_type": "stream",
     "text": [
      "Enter your roll number : 2111\n",
      "Enter your grade : B+\n",
      "Enter your percentage : 91\n",
      "Roll nummber is :  2111\n",
      "Grade is :  B+\n",
      "Percentage is :  91\n"
     ]
    }
   ],
   "source": [
    "r=int(input(\"Enter your roll number : \"))\n",
    "g=input(\"Enter your grade : \")\n",
    "p=int(input(\"Enter your percentage : \"))\n",
    "print(\"Roll nummber is : \",r)\n",
    "print(\"Grade is : \",g)\n",
    "print(\"Percentage is : \",p)"
   ]
  },
  {
   "cell_type": "markdown",
   "id": "57f98a9c",
   "metadata": {},
   "source": [
    "## 4) Write a program that asks the user to enter his/her name and age. Print out a message , displaying the user’s name along with the year in which they will turn 100 years old. "
   ]
  },
  {
   "cell_type": "code",
   "execution_count": 8,
   "id": "2cef8dcc",
   "metadata": {},
   "outputs": [
    {
     "name": "stdout",
     "output_type": "stream",
     "text": [
      "Enter your age : 25\n",
      "Enter your name : Shubham\n",
      "Enter your current year : 2022\n",
      "My name is  Shubham\n",
      "My age is  25\n",
      "In 2097, Im going to be 100 years old.\n"
     ]
    }
   ],
   "source": [
    "a=100\n",
    "age=int(input(\"Enter your age : \"))\n",
    "name=input(\"Enter your name : \")\n",
    "b=int(input(\"Enter your current year : \"))\n",
    "c=100-age+b\n",
    "\n",
    "print(\"My name is \",name)\n",
    "print(\"My age is \",age)\n",
    "print(\"In {}, Im going to be 100 years old.\".format(c))"
   ]
  },
  {
   "cell_type": "markdown",
   "id": "33f956bc",
   "metadata": {},
   "source": [
    "# 5) Write a Python program which accepts the user's first and last name and print them in reverse order with a space between them."
   ]
  },
  {
   "cell_type": "code",
   "execution_count": 10,
   "id": "82687657",
   "metadata": {},
   "outputs": [
    {
     "name": "stdout",
     "output_type": "stream",
     "text": [
      "Enter your firstname : Shubham\n",
      "Enter your lastname : Meshram\n",
      "Reverse of full name is :  marhseM mahbuhS\n"
     ]
    }
   ],
   "source": [
    "firstname=input(\"Enter your firstname : \")\n",
    "lastname=input(\"Enter your lastname : \")\n",
    "c=firstname + \" \" + lastname\n",
    "\n",
    "print(\"Reverse of full name is : \",c[::-1])"
   ]
  },
  {
   "cell_type": "markdown",
   "id": "ce0a627e",
   "metadata": {},
   "source": [
    "# 6) Accept an integer from the user and check whether it is an even or odd "
   ]
  },
  {
   "cell_type": "code",
   "execution_count": 13,
   "id": "2ed6e194",
   "metadata": {},
   "outputs": [
    {
     "name": "stdout",
     "output_type": "stream",
     "text": [
      "Enter number : 12\n",
      "12 is even number\n"
     ]
    }
   ],
   "source": [
    "a=int(input(\"Enter number : \"))\n",
    "\n",
    "if(a%2==0):\n",
    "    print(\"{} is even number\".format(a))\n",
    "else:\n",
    "    print(\"{} is odd number\".format(a))"
   ]
  },
  {
   "cell_type": "code",
   "execution_count": 14,
   "id": "cd9941b4",
   "metadata": {},
   "outputs": [
    {
     "name": "stdout",
     "output_type": "stream",
     "text": [
      "Enter number : 13\n",
      "13 is odd number\n"
     ]
    }
   ],
   "source": [
    "a=int(input(\"Enter number : \"))\n",
    "\n",
    "if(a%2==0):\n",
    "    print(\"{} is even number\".format(a))\n",
    "else:\n",
    "    print(\"{} is odd number\".format(a))"
   ]
  },
  {
   "cell_type": "markdown",
   "id": "7f1558e8",
   "metadata": {},
   "source": [
    "# 7) Accept a character from the user and check whether it is a capital letter or small letter. Assume user will input only alphabets "
   ]
  },
  {
   "cell_type": "code",
   "execution_count": 17,
   "id": "289cc832",
   "metadata": {},
   "outputs": [
    {
     "name": "stdout",
     "output_type": "stream",
     "text": [
      "Enter letter : A\n",
      "A is capital letter\n"
     ]
    }
   ],
   "source": [
    "a=input(\"Enter letter : \")\n",
    "\n",
    "if(a==a.lower()):\n",
    "    print(\"{} is small letter\".format(a))\n",
    "else:\n",
    "    print(\"{} is capital letter\".format(a))"
   ]
  },
  {
   "cell_type": "code",
   "execution_count": 18,
   "id": "4ebf9a24",
   "metadata": {},
   "outputs": [
    {
     "name": "stdout",
     "output_type": "stream",
     "text": [
      "Enter letter : a\n",
      "a is small letter\n"
     ]
    }
   ],
   "source": [
    "a=input(\"Enter letter : \")\n",
    "\n",
    "if(a==a.lower()):\n",
    "    print(\"{} is small letter\".format(a))\n",
    "else:\n",
    "    print(\"{} is capital letter\".format(a))"
   ]
  },
  {
   "cell_type": "code",
   "execution_count": 20,
   "id": "afab04a8",
   "metadata": {},
   "outputs": [
    {
     "name": "stdout",
     "output_type": "stream",
     "text": [
      "Enter letter : A\n",
      "A is capital letter\n"
     ]
    }
   ],
   "source": [
    "a=input(\"Enter letter : \")\n",
    "\n",
    "if(\"A\"<=a<=\"Z\"):\n",
    "    print(\"{} is capital letter\".format(a))\n",
    "else:\n",
    "    print(\"{} is small letter\".format(a))"
   ]
  },
  {
   "cell_type": "code",
   "execution_count": 21,
   "id": "a1b474fb",
   "metadata": {},
   "outputs": [
    {
     "name": "stdout",
     "output_type": "stream",
     "text": [
      "Enter letter : a\n",
      "a is small letter\n"
     ]
    }
   ],
   "source": [
    "a=input(\"Enter letter : \")\n",
    "\n",
    "if(\"A\"<=a<=\"Z\"):\n",
    "    print(\"{} is capital letter\".format(a))\n",
    "else:\n",
    "    print(\"{} is small letter\".format(a))"
   ]
  },
  {
   "cell_type": "code",
   "execution_count": 23,
   "id": "91a6a7cc",
   "metadata": {},
   "outputs": [
    {
     "name": "stdout",
     "output_type": "stream",
     "text": [
      "Enter string : Shubham\n",
      "S is capital letter\n"
     ]
    }
   ],
   "source": [
    "a=input(\"Enter string : \")\n",
    "\n",
    "if(\"A\"<=a[0]<=\"Z\"):\n",
    "    print(\"{} is capital letter\".format(a[0]))\n",
    "else:\n",
    "    print(\"{} is small letter\".format(a[0]))"
   ]
  },
  {
   "cell_type": "code",
   "execution_count": 24,
   "id": "a690aa91",
   "metadata": {},
   "outputs": [
    {
     "name": "stdout",
     "output_type": "stream",
     "text": [
      "Enter string : avinash\n",
      "a is small letter\n"
     ]
    }
   ],
   "source": [
    "a=input(\"Enter string : \")\n",
    "\n",
    "if(\"A\"<=a[0]<=\"Z\"):\n",
    "    print(\"{} is capital letter\".format(a[0]))\n",
    "else:\n",
    "    print(\"{} is small letter\".format(a[0]))"
   ]
  },
  {
   "cell_type": "markdown",
   "id": "70aa2dbf",
   "metadata": {},
   "source": [
    "# 8) Accept a character from the user and check whether it is a capital letter or small letter or a digit or some special symbol"
   ]
  },
  {
   "cell_type": "code",
   "execution_count": 38,
   "id": "075d625f",
   "metadata": {},
   "outputs": [
    {
     "name": "stdout",
     "output_type": "stream",
     "text": [
      "Enter : 12\n",
      "It is a number\n"
     ]
    }
   ],
   "source": [
    "a=input('Enter : ')\n",
    "\n",
    "if(\"A\"<=a[0]<=\"Z\"):\n",
    "    print(\"It is in capital\")\n",
    "elif(\"a\"<=a[0]<=\"z\"):\n",
    "    print(\"It is in small\")\n",
    "elif(a.isnumeric()==True):\n",
    "    print(\"It is a number\")"
   ]
  },
  {
   "cell_type": "markdown",
   "id": "3fbde600",
   "metadata": {},
   "source": [
    "# 9) Accept 3 integers from the user and without using any logical operator and cascading of relational operators , find out the greatest number amongst them"
   ]
  },
  {
   "cell_type": "code",
   "execution_count": 42,
   "id": "2c08da3e",
   "metadata": {},
   "outputs": [
    {
     "name": "stdout",
     "output_type": "stream",
     "text": [
      "Enter 1st number : 40\n",
      "Enter 2nd number : 30\n",
      "Enter 3rd number : 20\n",
      "40 number is greatest\n"
     ]
    }
   ],
   "source": [
    "a=int(input(\"Enter 1st number : \"))\n",
    "b=int(input(\"Enter 2nd number : \"))\n",
    "c=int(input(\"Enter 3rd number : \"))\n",
    "\n",
    "if(a>b):\n",
    "    if(a>c):\n",
    "        print(\"{} number is greatest\".format(a))\n",
    "if(b>c):\n",
    "    if(b>a):\n",
    "        print(\"{} number is greatest\".format(b))\n",
    "if(c>a):\n",
    "    if(c>b):\n",
    "        print(\"{} number is greatest\".format(c))"
   ]
  },
  {
   "cell_type": "markdown",
   "id": "f797c485",
   "metadata": {},
   "source": [
    "# 10) Accept a year from the user and check whether it is a leap year or not."
   ]
  },
  {
   "cell_type": "code",
   "execution_count": 52,
   "id": "dbab0dcc",
   "metadata": {},
   "outputs": [
    {
     "name": "stdout",
     "output_type": "stream",
     "text": [
      "Enter year : 2016\n",
      "2016 is leap year\n"
     ]
    }
   ],
   "source": [
    "a=int(input(\"Enter year : \"))\n",
    "\n",
    "if((a%4==0 and a%100!=0) or a%400==0):\n",
    "    print(\"{} is leap year\".format(a))\n",
    "else:\n",
    "    print(\"{} is not leap year\".format(a))"
   ]
  },
  {
   "cell_type": "code",
   "execution_count": 53,
   "id": "e1f2b0ee",
   "metadata": {},
   "outputs": [
    {
     "name": "stdout",
     "output_type": "stream",
     "text": [
      "Enter year : 2022\n",
      "2022 is not leap year\n"
     ]
    }
   ],
   "source": [
    "a=int(input(\"Enter year : \"))\n",
    "\n",
    "if((a%4==0 and a%100!=0) or a%400==0):\n",
    "    print(\"{} is leap year\".format(a))\n",
    "else:\n",
    "    print(\"{} is not leap year\".format(a))"
   ]
  },
  {
   "cell_type": "code",
   "execution_count": null,
   "id": "383eeab3",
   "metadata": {},
   "outputs": [],
   "source": []
  }
 ],
 "metadata": {
  "kernelspec": {
   "display_name": "Python 3 (ipykernel)",
   "language": "python",
   "name": "python3"
  },
  "language_info": {
   "codemirror_mode": {
    "name": "ipython",
    "version": 3
   },
   "file_extension": ".py",
   "mimetype": "text/x-python",
   "name": "python",
   "nbconvert_exporter": "python",
   "pygments_lexer": "ipython3",
   "version": "3.9.13"
  }
 },
 "nbformat": 4,
 "nbformat_minor": 5
}
